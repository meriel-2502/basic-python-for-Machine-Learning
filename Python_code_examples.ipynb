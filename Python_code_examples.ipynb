{
  "nbformat": 4,
  "nbformat_minor": 0,
  "metadata": {
    "colab": {
      "provenance": [],
      "authorship_tag": "ABX9TyNLSmlHy17arvmgngPwpGEz",
      "include_colab_link": true
    },
    "kernelspec": {
      "name": "python3",
      "display_name": "Python 3"
    },
    "language_info": {
      "name": "python"
    }
  },
  "cells": [
    {
      "cell_type": "markdown",
      "metadata": {
        "id": "view-in-github",
        "colab_type": "text"
      },
      "source": [
        "<a href=\"https://colab.research.google.com/github/meriel-2502/basic-python-for-Machine-Learning/blob/main/Python_code_examples.ipynb\" target=\"_parent\"><img src=\"https://colab.research.google.com/assets/colab-badge.svg\" alt=\"Open In Colab\"/></a>"
      ]
    },
    {
      "cell_type": "markdown",
      "source": [
        "1.Program to find the largest of three numbers\n",
        "\n",
        "-**step1:** Read/Assign three numbers from the user into num1 and num2\n",
        "\n",
        "-**step2:** Find the largest number.\n",
        "\n",
        "-**step 3:**print the numbers.\n"
      ],
      "metadata": {
        "id": "CyJcju4aOfBb"
      }
    },
    {
      "cell_type": "code",
      "execution_count": 3,
      "metadata": {
        "colab": {
          "base_uri": "https://localhost:8080/"
        },
        "id": "9O32EYQ0KgiF",
        "outputId": "b37e618f-63f5-4636-ad58-adb78c9c2030"
      },
      "outputs": [
        {
          "output_type": "stream",
          "name": "stdout",
          "text": [
            "Enter first number: 50\n",
            "Enter second number: 80\n",
            "Enter third number: 10\n",
            "The largest number is 80.0\n"
          ]
        }
      ],
      "source": [
        "\"\"\"\n",
        "# Python program to find the largest number among the three input numbers\n",
        "\"\"\"\n",
        "#num1 = 40\n",
        "#num2 = 24\n",
        "#num3 = 32\n",
        "#uncomment following lines to take three numbers from user\n",
        "num1 = float(input(\"Enter first number: \"))\n",
        "num2 = float(input(\"Enter second number: \"))\n",
        "num3 = float(input(\"Enter third number: \"))\n",
        "if (num1 >= num2) and (num1 >= num3):\n",
        "   largest = num1\n",
        "elif (num2 >= num1) and (num2 >= num3):\n",
        "   largest = num2\n",
        "else:\n",
        "   largest = num3\n",
        "print(\"The largest number is\", largest)"
      ]
    },
    {
      "cell_type": "markdown",
      "source": [
        "2. Printing Multiplication Table\n",
        "-**Step 1:**take input from the user whose multiplication table is to be displayed\n",
        "\n",
        "-**Step 2:** Iterate 10 times from i=1-10 and print the table\n"
      ],
      "metadata": {
        "id": "bRPwcB28QkHs"
      }
    },
    {
      "cell_type": "code",
      "source": [
        "# Multiplication table (from 1 to 10) in Python\n",
        "\n",
        "num = 12\n",
        "\n",
        "# To take input from the user\n",
        "# num = int(input(\"Display multiplication table of? \"))\n",
        "\n",
        "# Iterate 10 times from i = 1 to 10\n",
        "for i in range(1, 11):\n",
        "   print(num, 'x', i, '=', num*i)"
      ],
      "metadata": {
        "colab": {
          "base_uri": "https://localhost:8080/"
        },
        "id": "9jCW4nfURPVc",
        "outputId": "52ef3e74-cd14-41ae-a2d2-fe322d44530c"
      },
      "execution_count": 4,
      "outputs": [
        {
          "output_type": "stream",
          "name": "stdout",
          "text": [
            "12 x 1 = 12\n",
            "12 x 2 = 24\n",
            "12 x 3 = 36\n",
            "12 x 4 = 48\n",
            "12 x 5 = 60\n",
            "12 x 6 = 72\n",
            "12 x 7 = 84\n",
            "12 x 8 = 96\n",
            "12 x 9 = 108\n",
            "12 x 10 = 120\n"
          ]
        }
      ]
    },
    {
      "cell_type": "markdown",
      "source": [
        "2.1 Get an integer less than 12 from the user and display its's ,multiplication table."
      ],
      "metadata": {
        "id": "1yToFXpSRWc6"
      }
    },
    {
      "cell_type": "code",
      "source": [
        "# To take input from the user\n",
        "num = int(input(\"Display multiplication table of? \"))\n",
        "\n",
        "# Iterate 10 times from i = 1 to 10\n",
        "if num<12:\n",
        "  for i in range(1, 11):\n",
        "   print(i, 'x', num, '=', num*i)\n",
        "else:\n",
        "   print(\"Number not less than 12!\")"
      ],
      "metadata": {
        "colab": {
          "base_uri": "https://localhost:8080/"
        },
        "id": "zcKfg_GxRqZy",
        "outputId": "811f0f58-9067-4386-8982-5dc702654648"
      },
      "execution_count": 12,
      "outputs": [
        {
          "output_type": "stream",
          "name": "stdout",
          "text": [
            "Display multiplication table of? 3\n",
            "1 x 3 = 3\n",
            "2 x 3 = 6\n",
            "3 x 3 = 9\n",
            "4 x 3 = 12\n",
            "5 x 3 = 15\n",
            "6 x 3 = 18\n",
            "7 x 3 = 21\n",
            "8 x 3 = 24\n",
            "9 x 3 = 27\n",
            "10 x 3 = 30\n"
          ]
        }
      ]
    },
    {
      "cell_type": "markdown",
      "source": [
        "\n",
        "3.Check for sign of a number\n",
        "\n",
        "-**step 1:** take input from user\n",
        "\n",
        "-**step 2:** Check the sign of the number using conditional statements if-elif-else\n",
        "\n",
        "-**step 3:** print the sign of the nymber"
      ],
      "metadata": {
        "id": "9r9c1pC4ScCx"
      }
    },
    {
      "cell_type": "code",
      "source": [
        "num = float(input(\"Enter a number: \"))\n",
        "if num > 0:\n",
        "   print(\"Positive number\")\n",
        "elif num == 0:\n",
        "   print(\"Zero\")\n",
        "else:\n",
        "   print(\"Negative number\")"
      ],
      "metadata": {
        "colab": {
          "base_uri": "https://localhost:8080/"
        },
        "id": "sduLiHCHTUYR",
        "outputId": "4a155fa6-4f23-4fb7-9a5b-1d7509f10135"
      },
      "execution_count": 13,
      "outputs": [
        {
          "output_type": "stream",
          "name": "stdout",
          "text": [
            "Enter a number: 10\n",
            "Positive number\n"
          ]
        }
      ]
    },
    {
      "cell_type": "markdown",
      "source": [
        "4.Find surface area and volume of a cylinder.\n",
        "\n",
        "Let  r  is the base radius and  h  is the height of a right circular cylinder.\n",
        "\n",
        "SA=2πr(r+h) \n",
        "\n",
        "V=πr2h\n",
        "\n",
        "-**step 1:**read the radius and height of the cylinder from user\n",
        "\n",
        "-**step 2:** find the surface area and volume of the cylinder using the equation.\n",
        "\n",
        "-**step 3:**Print the surface area and volume of the cylinder"
      ],
      "metadata": {
        "id": "XlPXQWeDTbU4"
      }
    },
    {
      "cell_type": "code",
      "source": [
        "#from math import pi\n",
        "pi=3.14\n",
        "r=2.6\n",
        "h=1.6\n",
        "SA=2*pi*r*(r+h)\n",
        "V=pi*r**2*h\n",
        "print((\"Surface Area is {} and Volume is {}\").format(SA,V))"
      ],
      "metadata": {
        "colab": {
          "base_uri": "https://localhost:8080/"
        },
        "id": "pDNfAU6gUZzg",
        "outputId": "819d9bd2-beff-464b-e290-0ed2c2c325bc"
      },
      "execution_count": 14,
      "outputs": [
        {
          "output_type": "stream",
          "name": "stdout",
          "text": [
            "Surface Area is 68.57760000000002 and Volume is 33.96224\n"
          ]
        }
      ]
    },
    {
      "cell_type": "markdown",
      "source": [
        "5.Find area of a circle with radius  r  using user input\n",
        "\n",
        "-**step 1:**Read the value of radius from the user\n",
        "\n",
        "-**step 2:** print the area of the circle"
      ],
      "metadata": {
        "id": "479sJbKKUhvB"
      }
    },
    {
      "cell_type": "code",
      "source": [
        "\"\"\"\n",
        "program to find area of a circle\n",
        "\"\"\"\n",
        "r=float(input(\"Enter the radius: \"))\n",
        "print(\"Area: \",pi*r**2)"
      ],
      "metadata": {
        "colab": {
          "base_uri": "https://localhost:8080/"
        },
        "id": "V7Ramwq4U_Sx",
        "outputId": "d4b86017-5087-447c-dae3-a4acf350d74c"
      },
      "execution_count": 17,
      "outputs": [
        {
          "output_type": "stream",
          "name": "stdout",
          "text": [
            "Enter the radius: 10\n",
            "Area:  314.0\n"
          ]
        }
      ]
    },
    {
      "cell_type": "markdown",
      "source": [
        "6.Find the area of a rectangle with lenght  l  and breadth  b\n",
        "\n",
        "-**step 1:**Assign length and breadth of the rectangle from the user\n",
        "\n",
        "-**step 2:** find the area of the rectangle\n",
        "\n",
        "-**step 3:** Print the area"
      ],
      "metadata": {
        "id": "cZ4-NjnWVYhJ"
      }
    },
    {
      "cell_type": "code",
      "source": [
        "l=2;b=5.2\n",
        "Area=l*b\n",
        "print(\"Area of the Rectangle is : \",Area)"
      ],
      "metadata": {
        "colab": {
          "base_uri": "https://localhost:8080/"
        },
        "id": "Jol6wIdHV4Dg",
        "outputId": "85aa7f93-d0b1-46e6-9d6a-305001784212"
      },
      "execution_count": 18,
      "outputs": [
        {
          "output_type": "stream",
          "name": "stdout",
          "text": [
            "Area of the Rectangle is :  10.4\n"
          ]
        }
      ]
    },
    {
      "cell_type": "markdown",
      "source": [
        "7.Replacing a word with another word in a sentence\n",
        "\n",
        "Use the replace() method in python\n",
        "\n",
        "Syntax:$$str.replace(old,new)$$\n",
        "\n",
        "-**step 1:**assign a string\n",
        "\n",
        "-**step2 :**Replace the word with a new word using replace() method\n",
        "\n",
        "_**step 3:**Print the replaced string"
      ],
      "metadata": {
        "id": "kvtLdWbMWIOA"
      }
    },
    {
      "cell_type": "code",
      "source": [
        "# program to replace a word by another word in a sentence\n",
        "\n",
        "text = 'hand ball is a hand full of hands'\n",
        "\n",
        "# replace 'hand' with 'foot'\n",
        "replaced_text = text.replace('hand ', 'foot ')\n",
        "print(replaced_text)"
      ],
      "metadata": {
        "colab": {
          "base_uri": "https://localhost:8080/"
        },
        "id": "x6P9an90Xz6w",
        "outputId": "aa65a0bd-8c44-47e3-b31f-fa64246b7e27"
      },
      "execution_count": 19,
      "outputs": [
        {
          "output_type": "stream",
          "name": "stdout",
          "text": [
            "foot ball is a foot full of hands\n"
          ]
        }
      ]
    },
    {
      "cell_type": "markdown",
      "source": [
        "# 8.Program to remove a word from a sentence\n",
        "\n",
        "We will use the string method remove().\n",
        "\n",
        "Syntax:$$str.remove(word to be removed)$$\n",
        "\n",
        "-**step 1:**Read a string from the user\n",
        "\n",
        "-**step 2:**. read the word to remove from the string\n",
        "\n",
        "-**step 3:**Print the updated string with the removed word"
      ],
      "metadata": {
        "id": "cu6qAu-kX4SI"
      }
    },
    {
      "cell_type": "code",
      "source": [
        "# program to remove a word from a sentence\n",
        "text = input(\"Enter the String: \")\n",
        "word = input(\"Enter a Word to Delete: \")\n",
        "\n",
        "text = text.replace(word, \"\")\n",
        "print(\"The updated sentence is:\\n\")\n",
        "print(text)"
      ],
      "metadata": {
        "colab": {
          "base_uri": "https://localhost:8080/"
        },
        "id": "yzijYKvlYsqn",
        "outputId": "e4386c8f-4a5a-4645-816e-ce68d01b91ec"
      },
      "execution_count": 20,
      "outputs": [
        {
          "output_type": "stream",
          "name": "stdout",
          "text": [
            "Enter the String: Basic  Python programming examples\n",
            "Enter a Word to Delete: Basic\n",
            "The updated sentence is:\n",
            "\n",
            "  Python programming examples\n"
          ]
        }
      ]
    },
    {
      "cell_type": "code",
      "source": [
        "#program to remove a word from a sentende using remove() method\n",
        "text = input('Enter a string: ')\n",
        "words = text.split()\n",
        "\n",
        "data = input('Enter a word to delete: ')\n",
        "status = False\n",
        "\n",
        "for word in words:\n",
        "    if word == data:\n",
        "        words.remove(word)\n",
        "        status = True\n",
        "\n",
        "if status:\n",
        "    text = ' '.join(words)\n",
        "    print('String after deletion:',text)\n",
        "else:\n",
        "    print('Word not present in string.')"
      ],
      "metadata": {
        "id": "6oB-xy-VcKWw"
      },
      "execution_count": null,
      "outputs": []
    },
    {
      "cell_type": "markdown",
      "source": [
        "# 9.Program to split a sentence into words\n",
        "use the split() method\n",
        "\n",
        "Syntax:\n",
        "\n",
        "$$str.split()$$\n",
        "\n",
        "-**step 1:**input the string to split\n",
        "\n",
        "-**step 2:**Split the string using split() method\n",
        "\n",
        "-**step 3:** Print the word list"
      ],
      "metadata": {
        "id": "omP4mzK7ZIPK"
      }
    },
    {
      "cell_type": "code",
      "source": [
        "text = input(\"Enter the text: \")\n",
        "wordlist = text.split()\n",
        "print(wordlist)"
      ],
      "metadata": {
        "colab": {
          "base_uri": "https://localhost:8080/"
        },
        "id": "zQSjPkP9bary",
        "outputId": "3c23f94d-8bea-415d-914a-8bf221b63495"
      },
      "execution_count": 21,
      "outputs": [
        {
          "output_type": "stream",
          "name": "stdout",
          "text": [
            "Enter the text: I am a girl\n",
            "['I', 'am', 'a', 'girl']\n"
          ]
        }
      ]
    },
    {
      "cell_type": "markdown",
      "source": [
        "# 10.Program to check if a list of words is in a long string at least one\n",
        "_**step 1:**"
      ],
      "metadata": {
        "id": "6lLgDFpscbMm"
      }
    }
  ]
}