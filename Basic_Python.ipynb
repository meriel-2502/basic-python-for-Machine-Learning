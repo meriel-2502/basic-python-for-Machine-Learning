{
  "nbformat": 4,
  "nbformat_minor": 0,
  "metadata": {
    "colab": {
      "provenance": [],
      "authorship_tag": "ABX9TyP7wsPHmvpUovV2Gi09wb5d",
      "include_colab_link": true
    },
    "kernelspec": {
      "name": "python3",
      "display_name": "Python 3"
    },
    "language_info": {
      "name": "python"
    }
  },
  "cells": [
    {
      "cell_type": "markdown",
      "metadata": {
        "id": "view-in-github",
        "colab_type": "text"
      },
      "source": [
        "<a href=\"https://colab.research.google.com/github/meriel-2502/basic-python-for-Machine-Learning/blob/main/Basic_Python.ipynb\" target=\"_parent\"><img src=\"https://colab.research.google.com/assets/colab-badge.svg\" alt=\"Open In Colab\"/></a>"
      ]
    },
    {
      "cell_type": "code",
      "execution_count": null,
      "metadata": {
        "colab": {
          "base_uri": "https://localhost:8080/"
        },
        "id": "bc0JdBaTndKS",
        "outputId": "7b42107b-f53a-4c13-d92a-fc54c460e18d"
      },
      "outputs": [
        {
          "output_type": "stream",
          "name": "stdout",
          "text": [
            "The sum is : 30\n"
          ]
        }
      ],
      "source": [
        "a=10\n",
        "b=20\n",
        "sum=a+b\n",
        "print(\"The sum is :\",sum)"
      ]
    },
    {
      "cell_type": "code",
      "source": [
        "a=int(input(\"Enter the first number:\")) #input fnctn reads valuse as string.int() cast it to integer"
      ],
      "metadata": {
        "colab": {
          "base_uri": "https://localhost:8080/"
        },
        "id": "ByyhoJZkn8pH",
        "outputId": "b23d6161-8c39-4170-c4a9-89837823f950"
      },
      "execution_count": null,
      "outputs": [
        {
          "name": "stdout",
          "output_type": "stream",
          "text": [
            "Enter the first number:5\n"
          ]
        }
      ]
    },
    {
      "cell_type": "code",
      "source": [],
      "metadata": {
        "id": "wi6yG7nyGR3-"
      },
      "execution_count": null,
      "outputs": []
    },
    {
      "cell_type": "code",
      "source": [
        "b=int(input(\"Enter the 2nd number:\"))"
      ],
      "metadata": {
        "colab": {
          "base_uri": "https://localhost:8080/"
        },
        "id": "_EJmjxQ7oFWS",
        "outputId": "2ecd9028-7046-4f96-aa74-5bed38a31f40"
      },
      "execution_count": null,
      "outputs": [
        {
          "name": "stdout",
          "output_type": "stream",
          "text": [
            "Enter the 2nd number:78\n"
          ]
        }
      ]
    },
    {
      "cell_type": "code",
      "source": [
        "sum=a+b\n",
        "print(sum)"
      ],
      "metadata": {
        "colab": {
          "base_uri": "https://localhost:8080/"
        },
        "id": "KAc_yLxxoRfH",
        "outputId": "2b42e052-a57e-44b7-8119-22b50d4da937"
      },
      "execution_count": null,
      "outputs": [
        {
          "output_type": "stream",
          "name": "stdout",
          "text": [
            "83\n"
          ]
        }
      ]
    },
    {
      "cell_type": "code",
      "source": [
        "a = 5\n",
        "print(a, \"is of type\", type(a))\n",
        "a = 2.0\n",
        "print(a, \"is of type\", type(a))\n",
        "a = 1+2j\n",
        "print(a, \"is complex number?\", isinstance(1+2j,complex))\n"
      ],
      "metadata": {
        "colab": {
          "base_uri": "https://localhost:8080/"
        },
        "id": "TChqK1uxGUL5",
        "outputId": "aae6cfd4-1096-42a9-bc2f-91d04ef4c1b1"
      },
      "execution_count": 1,
      "outputs": [
        {
          "output_type": "stream",
          "name": "stdout",
          "text": [
            "5 is of type <class 'int'>\n",
            "2.0 is of type <class 'float'>\n",
            "(1+2j) is complex number? True\n"
          ]
        }
      ]
    },
    {
      "cell_type": "code",
      "source": [
        "a = [5,10,15,20,25,30,35,40] #list(slicing)\n",
        "print(\"a[2] = \", a[2])\n",
        "print(\"a[0:3] = \", a[0:3])\n",
        "print(\"a[5:] = \", a[5:])\n"
      ],
      "metadata": {
        "colab": {
          "base_uri": "https://localhost:8080/"
        },
        "id": "VEbVrFJTGr8W",
        "outputId": "29df5bdd-4482-4fda-9727-eb48d459029f"
      },
      "execution_count": 2,
      "outputs": [
        {
          "output_type": "stream",
          "name": "stdout",
          "text": [
            "a[2] =  15\n",
            "a[0:3] =  [5, 10, 15]\n",
            "a[5:] =  [30, 35, 40]\n"
          ]
        }
      ]
    },
    {
      "cell_type": "code",
      "source": [
        "d = {1:'value','key':2}#dictionary\n",
        "print(type(d))\n",
        "\n",
        "print(\"d[1] = \", d[1]);\n",
        "\n",
        "print(\"d['key'] = \", d['key']);\n"
      ],
      "metadata": {
        "colab": {
          "base_uri": "https://localhost:8080/"
        },
        "id": "sMyBnRehVQDs",
        "outputId": "3a9dfdc3-b0c8-4e03-e897-d04fe4fb07e3"
      },
      "execution_count": 3,
      "outputs": [
        {
          "output_type": "stream",
          "name": "stdout",
          "text": [
            "<class 'dict'>\n",
            "d[1] =  value\n",
            "d['key'] =  2\n"
          ]
        }
      ]
    },
    {
      "cell_type": "code",
      "source": [
        "print(\"d[2] = \", d[2]);#generates error\n"
      ],
      "metadata": {
        "colab": {
          "base_uri": "https://localhost:8080/",
          "height": 165
        },
        "id": "j7E2hcnLVXdG",
        "outputId": "6ced67be-a8c4-43fa-c10c-67e8d783b955"
      },
      "execution_count": 4,
      "outputs": [
        {
          "output_type": "error",
          "ename": "KeyError",
          "evalue": "ignored",
          "traceback": [
            "\u001b[0;31m---------------------------------------------------------------------------\u001b[0m",
            "\u001b[0;31mKeyError\u001b[0m                                  Traceback (most recent call last)",
            "\u001b[0;32m<ipython-input-4-7704811311c6>\u001b[0m in \u001b[0;36m<cell line: 1>\u001b[0;34m()\u001b[0m\n\u001b[0;32m----> 1\u001b[0;31m \u001b[0mprint\u001b[0m\u001b[0;34m(\u001b[0m\u001b[0;34m\"d[2] = \"\u001b[0m\u001b[0;34m,\u001b[0m \u001b[0md\u001b[0m\u001b[0;34m[\u001b[0m\u001b[0;36m2\u001b[0m\u001b[0;34m]\u001b[0m\u001b[0;34m)\u001b[0m\u001b[0;34m;\u001b[0m\u001b[0;34m\u001b[0m\u001b[0;34m\u001b[0m\u001b[0m\n\u001b[0m",
            "\u001b[0;31mKeyError\u001b[0m: 2"
          ]
        }
      ]
    },
    {
      "cell_type": "code",
      "source": [
        "for i in range(1,11):# continue keyword\n",
        " if i == 5:#intendation imp\n",
        "  continue\n",
        " print(i)"
      ],
      "metadata": {
        "colab": {
          "base_uri": "https://localhost:8080/"
        },
        "id": "turH8r1qVkDw",
        "outputId": "056183fb-aae6-41bd-911d-c5b6915c4882"
      },
      "execution_count": 8,
      "outputs": [
        {
          "output_type": "stream",
          "name": "stdout",
          "text": [
            "1\n",
            "2\n",
            "3\n",
            "4\n",
            "6\n",
            "7\n",
            "8\n",
            "9\n",
            "10\n"
          ]
        }
      ]
    },
    {
      "cell_type": "code",
      "source": [
        "for i in range(1,11):# break keyword\n",
        " if i == 5:\n",
        "  break\n",
        " print(i)"
      ],
      "metadata": {
        "colab": {
          "base_uri": "https://localhost:8080/"
        },
        "id": "BxFvY9m604Ku",
        "outputId": "372f1cf6-b395-491f-dcdf-b619de50898b"
      },
      "execution_count": 9,
      "outputs": [
        {
          "output_type": "stream",
          "name": "stdout",
          "text": [
            "1\n",
            "2\n",
            "3\n",
            "4\n"
          ]
        }
      ]
    },
    {
      "cell_type": "code",
      "source": [
        "def if_example(a): #if ,else,elif\n",
        " if a == 1:\n",
        "  print('One')\n",
        " elif a == 2:\n",
        "  print('Two')\n",
        " else:\n",
        "  print('Something else')\n",
        "if_example(2)\n",
        "if_example(4)\n",
        "if_example(1)"
      ],
      "metadata": {
        "colab": {
          "base_uri": "https://localhost:8080/"
        },
        "id": "Hf5w3RCc2Wmf",
        "outputId": "9060ca96-ff31-42b1-b9e7-5eba1c3945fc"
      },
      "execution_count": 11,
      "outputs": [
        {
          "output_type": "stream",
          "name": "stdout",
          "text": [
            "Two\n",
            "Something else\n",
            "One\n"
          ]
        }
      ]
    },
    {
      "cell_type": "code",
      "source": [
        "names = ['John','Monica','Steven','Robin'] #for\n",
        "for i in names:\n",
        "  print('Hello '+i)"
      ],
      "metadata": {
        "colab": {
          "base_uri": "https://localhost:8080/"
        },
        "id": "yy2PN_uU3Dq_",
        "outputId": "13f18ad3-8fd3-4add-85f6-0814247310c4"
      },
      "execution_count": 13,
      "outputs": [
        {
          "output_type": "stream",
          "name": "stdout",
          "text": [
            "Hello John\n",
            "Hello Monica\n",
            "Hello Steven\n",
            "Hello Robin\n"
          ]
        }
      ]
    },
    {
      "cell_type": "code",
      "source": [
        "for i in 'hello': #in\n",
        " print(i)"
      ],
      "metadata": {
        "colab": {
          "base_uri": "https://localhost:8080/"
        },
        "id": "RImg42xM6KsI",
        "outputId": "28bb0255-b6fa-454e-fb1b-780e38dbd841"
      },
      "execution_count": 16,
      "outputs": [
        {
          "output_type": "stream",
          "name": "stdout",
          "text": [
            "h\n",
            "e\n",
            "l\n",
            "l\n",
            "o\n"
          ]
        }
      ]
    },
    {
      "cell_type": "code",
      "source": [
        "i = 5#while\n",
        "while(i):\n",
        " print(i)\n",
        " i = i-1\n"
      ],
      "metadata": {
        "colab": {
          "base_uri": "https://localhost:8080/"
        },
        "id": "WKGUtRah7YLw",
        "outputId": "e5e004ca-9365-48f7-df22-1cd8fb93b98a"
      },
      "execution_count": 22,
      "outputs": [
        {
          "output_type": "stream",
          "name": "stdout",
          "text": [
            "5\n",
            "4\n",
            "3\n",
            "2\n",
            "1\n"
          ]
        }
      ]
    }
  ]
}